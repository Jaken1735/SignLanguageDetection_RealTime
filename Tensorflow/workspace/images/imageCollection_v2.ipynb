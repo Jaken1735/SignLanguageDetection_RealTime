{
 "cells": [
  {
   "cell_type": "markdown",
   "metadata": {},
   "source": [
    "# Data Collection for Transfer Learning"
   ]
  },
  {
   "cell_type": "code",
   "execution_count": 2,
   "metadata": {},
   "outputs": [],
   "source": [
    "import os\n",
    "import time\n",
    "import uuid"
   ]
  },
  {
   "cell_type": "code",
   "execution_count": 3,
   "metadata": {},
   "outputs": [],
   "source": [
    "import cv2\n",
    "import numpy as np\n",
    "import matplotlib.pyplot as plt\n",
    "import matplotlib.image as mpimg\n",
    "import matplotlib.patches as patches\n",
    "import matplotlib.patheffects as pe\n",
    "import matplotlib.patheffects as path_effects\n",
    "import matplotlib.pyplot as plt\n",
    "import matplotlib.patches as patches\n",
    "import matplotlib.patheffects as pe\n",
    "import matplotlib.patheffects as path_effects\n",
    "import matplotlib.pyplot as plt"
   ]
  },
  {
   "cell_type": "code",
   "execution_count": 4,
   "metadata": {},
   "outputs": [],
   "source": [
    "IMAGES_PATH = '/Users/jaken1735/RealTime_ObjectDetection/images/collected_images'"
   ]
  },
  {
   "cell_type": "code",
   "execution_count": 5,
   "metadata": {},
   "outputs": [],
   "source": [
    "labels = ['hello', 'thanks', 'yes', 'no', 'iloveyou']\n",
    "number_of_images = 15"
   ]
  },
  {
   "cell_type": "markdown",
   "metadata": {},
   "source": [
    "### Collecting the sign-language images\n",
    "\n",
    "Here we want to loop through all the labels, and start by creating a directory for each of the assigned image labels. After this, we start our video-capture in which and we loop through the number of images we want to collect for that specific sign-language. "
   ]
  },
  {
   "cell_type": "code",
   "execution_count": null,
   "metadata": {},
   "outputs": [
    {
     "name": "stdout",
     "output_type": "stream",
     "text": [
      "Collecting images for hello\n",
      "/Users/jaken1735/RealTime_ObjectDetection/images/collected_images/hello/hello-1.jpg written!\n",
      "/Users/jaken1735/RealTime_ObjectDetection/images/collected_images/hello/hello-2.jpg written!\n",
      "/Users/jaken1735/RealTime_ObjectDetection/images/collected_images/hello/hello-3.jpg written!\n",
      "/Users/jaken1735/RealTime_ObjectDetection/images/collected_images/hello/hello-4.jpg written!\n",
      "/Users/jaken1735/RealTime_ObjectDetection/images/collected_images/hello/hello-5.jpg written!\n",
      "/Users/jaken1735/RealTime_ObjectDetection/images/collected_images/hello/hello-6.jpg written!\n",
      "/Users/jaken1735/RealTime_ObjectDetection/images/collected_images/hello/hello-7.jpg written!\n",
      "/Users/jaken1735/RealTime_ObjectDetection/images/collected_images/hello/hello-8.jpg written!\n",
      "/Users/jaken1735/RealTime_ObjectDetection/images/collected_images/hello/hello-9.jpg written!\n",
      "/Users/jaken1735/RealTime_ObjectDetection/images/collected_images/hello/hello-10.jpg written!\n",
      "/Users/jaken1735/RealTime_ObjectDetection/images/collected_images/hello/hello-11.jpg written!\n",
      "/Users/jaken1735/RealTime_ObjectDetection/images/collected_images/hello/hello-12.jpg written!\n",
      "/Users/jaken1735/RealTime_ObjectDetection/images/collected_images/hello/hello-13.jpg written!\n",
      "/Users/jaken1735/RealTime_ObjectDetection/images/collected_images/hello/hello-14.jpg written!\n",
      "/Users/jaken1735/RealTime_ObjectDetection/images/collected_images/hello/hello-15.jpg written!\n",
      "Collecting 15 images for hello complete!\n",
      "Collecting images for thanks\n",
      "/Users/jaken1735/RealTime_ObjectDetection/images/collected_images/thanks/thanks-1.jpg written!\n",
      "/Users/jaken1735/RealTime_ObjectDetection/images/collected_images/thanks/thanks-2.jpg written!\n"
     ]
    },
    {
     "name": "stderr",
     "output_type": "stream",
     "text": [
      "2025-03-12 17:26:06.729 Python[38511:1182418] +[IMKClient subclass]: chose IMKClient_Modern\n",
      "2025-03-12 17:26:06.729 Python[38511:1182418] +[IMKInputSession subclass]: chose IMKInputSession_Modern\n"
     ]
    },
    {
     "name": "stdout",
     "output_type": "stream",
     "text": [
      "/Users/jaken1735/RealTime_ObjectDetection/images/collected_images/thanks/thanks-3.jpg written!\n",
      "/Users/jaken1735/RealTime_ObjectDetection/images/collected_images/thanks/thanks-4.jpg written!\n",
      "/Users/jaken1735/RealTime_ObjectDetection/images/collected_images/thanks/thanks-5.jpg written!\n",
      "/Users/jaken1735/RealTime_ObjectDetection/images/collected_images/thanks/thanks-6.jpg written!\n",
      "/Users/jaken1735/RealTime_ObjectDetection/images/collected_images/thanks/thanks-7.jpg written!\n",
      "/Users/jaken1735/RealTime_ObjectDetection/images/collected_images/thanks/thanks-8.jpg written!\n",
      "/Users/jaken1735/RealTime_ObjectDetection/images/collected_images/thanks/thanks-9.jpg written!\n",
      "/Users/jaken1735/RealTime_ObjectDetection/images/collected_images/thanks/thanks-10.jpg written!\n",
      "/Users/jaken1735/RealTime_ObjectDetection/images/collected_images/thanks/thanks-11.jpg written!\n",
      "/Users/jaken1735/RealTime_ObjectDetection/images/collected_images/thanks/thanks-12.jpg written!\n",
      "/Users/jaken1735/RealTime_ObjectDetection/images/collected_images/thanks/thanks-13.jpg written!\n",
      "/Users/jaken1735/RealTime_ObjectDetection/images/collected_images/thanks/thanks-14.jpg written!\n",
      "/Users/jaken1735/RealTime_ObjectDetection/images/collected_images/thanks/thanks-15.jpg written!\n",
      "Collecting 15 images for thanks complete!\n",
      "Collecting images for yes\n",
      "/Users/jaken1735/RealTime_ObjectDetection/images/collected_images/yes/yes-1.jpg written!\n",
      "/Users/jaken1735/RealTime_ObjectDetection/images/collected_images/yes/yes-2.jpg written!\n",
      "/Users/jaken1735/RealTime_ObjectDetection/images/collected_images/yes/yes-3.jpg written!\n",
      "/Users/jaken1735/RealTime_ObjectDetection/images/collected_images/yes/yes-4.jpg written!\n",
      "/Users/jaken1735/RealTime_ObjectDetection/images/collected_images/yes/yes-5.jpg written!\n",
      "/Users/jaken1735/RealTime_ObjectDetection/images/collected_images/yes/yes-6.jpg written!\n",
      "/Users/jaken1735/RealTime_ObjectDetection/images/collected_images/yes/yes-7.jpg written!\n",
      "/Users/jaken1735/RealTime_ObjectDetection/images/collected_images/yes/yes-8.jpg written!\n",
      "/Users/jaken1735/RealTime_ObjectDetection/images/collected_images/yes/yes-9.jpg written!\n",
      "/Users/jaken1735/RealTime_ObjectDetection/images/collected_images/yes/yes-10.jpg written!\n",
      "/Users/jaken1735/RealTime_ObjectDetection/images/collected_images/yes/yes-11.jpg written!\n",
      "/Users/jaken1735/RealTime_ObjectDetection/images/collected_images/yes/yes-12.jpg written!\n",
      "/Users/jaken1735/RealTime_ObjectDetection/images/collected_images/yes/yes-13.jpg written!\n",
      "/Users/jaken1735/RealTime_ObjectDetection/images/collected_images/yes/yes-14.jpg written!\n",
      "/Users/jaken1735/RealTime_ObjectDetection/images/collected_images/yes/yes-15.jpg written!\n",
      "Collecting 15 images for yes complete!\n",
      "Collecting images for no\n",
      "/Users/jaken1735/RealTime_ObjectDetection/images/collected_images/no/no-1.jpg written!\n",
      "/Users/jaken1735/RealTime_ObjectDetection/images/collected_images/no/no-2.jpg written!\n",
      "/Users/jaken1735/RealTime_ObjectDetection/images/collected_images/no/no-3.jpg written!\n",
      "/Users/jaken1735/RealTime_ObjectDetection/images/collected_images/no/no-4.jpg written!\n",
      "/Users/jaken1735/RealTime_ObjectDetection/images/collected_images/no/no-5.jpg written!\n",
      "/Users/jaken1735/RealTime_ObjectDetection/images/collected_images/no/no-6.jpg written!\n",
      "/Users/jaken1735/RealTime_ObjectDetection/images/collected_images/no/no-7.jpg written!\n",
      "/Users/jaken1735/RealTime_ObjectDetection/images/collected_images/no/no-8.jpg written!\n",
      "/Users/jaken1735/RealTime_ObjectDetection/images/collected_images/no/no-9.jpg written!\n",
      "/Users/jaken1735/RealTime_ObjectDetection/images/collected_images/no/no-10.jpg written!\n",
      "/Users/jaken1735/RealTime_ObjectDetection/images/collected_images/no/no-11.jpg written!\n",
      "/Users/jaken1735/RealTime_ObjectDetection/images/collected_images/no/no-12.jpg written!\n",
      "/Users/jaken1735/RealTime_ObjectDetection/images/collected_images/no/no-13.jpg written!\n",
      "/Users/jaken1735/RealTime_ObjectDetection/images/collected_images/no/no-14.jpg written!\n",
      "/Users/jaken1735/RealTime_ObjectDetection/images/collected_images/no/no-15.jpg written!\n",
      "Collecting 15 images for no complete!\n",
      "Collecting images for iloveyou\n",
      "/Users/jaken1735/RealTime_ObjectDetection/images/collected_images/iloveyou/iloveyou-1.jpg written!\n",
      "/Users/jaken1735/RealTime_ObjectDetection/images/collected_images/iloveyou/iloveyou-2.jpg written!\n",
      "/Users/jaken1735/RealTime_ObjectDetection/images/collected_images/iloveyou/iloveyou-3.jpg written!\n",
      "/Users/jaken1735/RealTime_ObjectDetection/images/collected_images/iloveyou/iloveyou-4.jpg written!\n",
      "/Users/jaken1735/RealTime_ObjectDetection/images/collected_images/iloveyou/iloveyou-5.jpg written!\n",
      "/Users/jaken1735/RealTime_ObjectDetection/images/collected_images/iloveyou/iloveyou-6.jpg written!\n",
      "/Users/jaken1735/RealTime_ObjectDetection/images/collected_images/iloveyou/iloveyou-7.jpg written!\n",
      "/Users/jaken1735/RealTime_ObjectDetection/images/collected_images/iloveyou/iloveyou-8.jpg written!\n",
      "/Users/jaken1735/RealTime_ObjectDetection/images/collected_images/iloveyou/iloveyou-9.jpg written!\n",
      "/Users/jaken1735/RealTime_ObjectDetection/images/collected_images/iloveyou/iloveyou-10.jpg written!\n",
      "/Users/jaken1735/RealTime_ObjectDetection/images/collected_images/iloveyou/iloveyou-11.jpg written!\n",
      "/Users/jaken1735/RealTime_ObjectDetection/images/collected_images/iloveyou/iloveyou-12.jpg written!\n",
      "/Users/jaken1735/RealTime_ObjectDetection/images/collected_images/iloveyou/iloveyou-13.jpg written!\n",
      "/Users/jaken1735/RealTime_ObjectDetection/images/collected_images/iloveyou/iloveyou-14.jpg written!\n",
      "/Users/jaken1735/RealTime_ObjectDetection/images/collected_images/iloveyou/iloveyou-15.jpg written!\n",
      "Collecting 15 images for iloveyou complete!\n"
     ]
    },
    {
     "ename": "",
     "evalue": "",
     "output_type": "error",
     "traceback": [
      "\u001b[1;31mThe Kernel crashed while executing code in the current cell or a previous cell. \n",
      "\u001b[1;31mPlease review the code in the cell(s) to identify a possible cause of the failure. \n",
      "\u001b[1;31mClick <a href='https://aka.ms/vscodeJupyterKernelCrash'>here</a> for more info. \n",
      "\u001b[1;31mView Jupyter <a href='command:jupyter.viewOutput'>log</a> for further details."
     ]
    }
   ],
   "source": [
    "for label in labels:\n",
    "    !mkdir {'/Users/jaken1735/RealTime_ObjectDetection/images/collected_images//'+label}\n",
    "    cap = cv2.VideoCapture(0)\n",
    "    print(f'Collecting images for {label}')\n",
    "    time.sleep(5)\n",
    "    for i in range(number_of_images):\n",
    "        ret, frame = cap.read()\n",
    "        imgname = os.path.join(IMAGES_PATH, label, f\"{label}-{i+1}.jpg\")\n",
    "        cv2.imwrite(imgname, frame)\n",
    "        print(f'{imgname} written!')\n",
    "        cv2.imshow('frame', frame)\n",
    "        time.sleep(2)\n",
    "        if cv2.waitKey(1) & 0xFF == ord('q'):\n",
    "            break\n",
    "    \n",
    "    # Release the camera and close the window\n",
    "    cap.release()\n",
    "    cv2.destroyAllWindows()\n",
    "    print(f'Collecting {number_of_images} images for {label} complete!')\n",
    "    \n",
    "        "
   ]
  },
  {
   "cell_type": "code",
   "execution_count": null,
   "metadata": {},
   "outputs": [],
   "source": []
  }
 ],
 "metadata": {
  "kernelspec": {
   "display_name": "Python 3",
   "language": "python",
   "name": "python3"
  },
  "language_info": {
   "codemirror_mode": {
    "name": "ipython",
    "version": 3
   },
   "file_extension": ".py",
   "mimetype": "text/x-python",
   "name": "python",
   "nbconvert_exporter": "python",
   "pygments_lexer": "ipython3",
   "version": "3.13.0"
  }
 },
 "nbformat": 4,
 "nbformat_minor": 2
}
